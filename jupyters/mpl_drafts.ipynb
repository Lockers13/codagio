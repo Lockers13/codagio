{
 "cells": [
  {
   "cell_type": "code",
   "execution_count": 1,
   "metadata": {},
   "outputs": [],
   "source": [
    "import json\n",
    "import pandas as pd"
   ]
  },
  {
   "cell_type": "code",
   "execution_count": 2,
   "metadata": {},
   "outputs": [],
   "source": [
    "with open(\"analysis.json\", 'r') as f:\n",
    "    prog_dict = json.loads(f.read())"
   ]
  },
  {
   "cell_type": "code",
   "execution_count": 3,
   "metadata": {},
   "outputs": [
    {
     "data": {
      "text/plain": [
       "{'modules': {},\n",
       " 'fdefs': {'fdef_1': {'name': 'partition',\n",
       "   'retval': None,\n",
       "   'lineno': 4,\n",
       "   'args': ['arr', 'low', 'high'],\n",
       "   'body': {},\n",
       "   'ncalls': '4999',\n",
       "   'tot_time': '0.020',\n",
       "   'cum_time': '0.020',\n",
       "   'line_profile': {'line_8': {'hits': '4999',\n",
       "     'time': '6.00E-04',\n",
       "     'time_per_hit': '1.20E-07',\n",
       "     '%time': '3.0',\n",
       "     'contents': 'pivot = arr[(high+low)//2]'},\n",
       "    'line_9': {'hits': '4999',\n",
       "     'time': '4.00E-04',\n",
       "     'time_per_hit': '8.00E-08',\n",
       "     '%time': '2.0',\n",
       "     'contents': 'i = low - 1'},\n",
       "    'line_10': {'hits': '4999',\n",
       "     'time': '3.80E-04',\n",
       "     'time_per_hit': '7.60E-08',\n",
       "     '%time': '1.9',\n",
       "     'contents': 'j = high + 1'},\n",
       "    'line_12': {'hits': '4999',\n",
       "     'time': '3.40E-04',\n",
       "     'time_per_hit': '6.80E-08',\n",
       "     '%time': '1.7',\n",
       "     'contents': 'while True:'},\n",
       "    'line_13': {'hits': '26157',\n",
       "     'time': '2.02E-03',\n",
       "     'time_per_hit': '7.72E-08',\n",
       "     '%time': '10.1',\n",
       "     'contents': 'i += 1'},\n",
       "    'line_14': {'hits': '39985',\n",
       "     'time': '3.64E-03',\n",
       "     'time_per_hit': '9.10E-08',\n",
       "     '%time': '18.2',\n",
       "     'contents': 'while arr[i] < pivot:'},\n",
       "    'line_15': {'hits': '13828',\n",
       "     'time': '1.10E-03',\n",
       "     'time_per_hit': '7.95E-08',\n",
       "     '%time': '5.5',\n",
       "     'contents': 'i += 1'},\n",
       "    'line_16': {'hits': '26157',\n",
       "     'time': '2.08E-03',\n",
       "     'time_per_hit': '7.95E-08',\n",
       "     '%time': '10.4',\n",
       "     'contents': 'j -= 1'},\n",
       "    'line_17': {'hits': '39388',\n",
       "     'time': '3.60E-03',\n",
       "     'time_per_hit': '9.14E-08',\n",
       "     '%time': '18.0',\n",
       "     'contents': 'while arr[j] > pivot:'},\n",
       "    'line_18': {'hits': '13231',\n",
       "     'time': '1.08E-03',\n",
       "     'time_per_hit': '8.16E-08',\n",
       "     '%time': '5.4',\n",
       "     'contents': 'j -= 1'},\n",
       "    'line_19': {'hits': '26157',\n",
       "     'time': '2.02E-03',\n",
       "     'time_per_hit': '7.72E-08',\n",
       "     '%time': '10.1',\n",
       "     'contents': 'if i >= j:'},\n",
       "    'line_20': {'hits': '4999',\n",
       "     'time': '3.40E-04',\n",
       "     'time_per_hit': '6.80E-08',\n",
       "     '%time': '1.7',\n",
       "     'contents': 'return j'},\n",
       "    'line_22': {'hits': '21158',\n",
       "     'time': '2.44E-03',\n",
       "     'time_per_hit': '1.15E-07',\n",
       "     '%time': '12.2',\n",
       "     'contents': 'arr[i], arr[j] = arr[j], arr[i]'}}},\n",
       "  'fdef_2': {'name': 'quickSort',\n",
       "   'retval': None,\n",
       "   'lineno': 25,\n",
       "   'args': ['arr', 'low', 'high'],\n",
       "   'body': {},\n",
       "   'ncalls': '9999/1',\n",
       "   'tot_time': '0.006',\n",
       "   'cum_time': '0.026',\n",
       "   'line_profile': {'line_26': {'hits': '9999',\n",
       "     'time': '5.72E-04',\n",
       "     'time_per_hit': '5.72E-08',\n",
       "     '%time': '2.2',\n",
       "     'contents': 'if low < high:'},\n",
       "    'line_27': {'hits': '4999',\n",
       "     'time': '2.38E-02',\n",
       "     'time_per_hit': '4.76E-06',\n",
       "     '%time': '91.5',\n",
       "     'contents': 'pi = partition(arr, low, high)'},\n",
       "    'line_28': {'hits': '4999',\n",
       "     'time': '8.06E-04',\n",
       "     'time_per_hit': '1.61E-07',\n",
       "     '%time': '3.1',\n",
       "     'contents': 'quickSort(arr, low, pi)'},\n",
       "    'line_29': {'hits': '4999',\n",
       "     'time': '8.32E-04',\n",
       "     'time_per_hit': '1.66E-07',\n",
       "     '%time': '3.2',\n",
       "     'contents': 'quickSort(arr, pi+1, high)'}}},\n",
       "  'fdef_3': {'name': 'init_arr_from_file',\n",
       "   'retval': None,\n",
       "   'lineno': 31,\n",
       "   'args': [],\n",
       "   'body': {},\n",
       "   'ncalls': '1',\n",
       "   'tot_time': '0.000',\n",
       "   'cum_time': '0.017',\n",
       "   'line_profile': {'line_33': {'hits': '1',\n",
       "     'time': '1.70E-02',\n",
       "     'time_per_hit': '1.70E-02',\n",
       "     '%time': '100.0',\n",
       "     'contents': 'return [random.randint(0,100) for i in range(5000)]'}}}},\n",
       " 'fcalls': {'fcall_1': {'parent': None,\n",
       "   'args': ['arr', 'low', 'high'],\n",
       "   'name': 'partition',\n",
       "   'lineno': 27},\n",
       "  'fcall_2': {'parent': None,\n",
       "   'args': ['arr', 'low', 'pi'],\n",
       "   'name': 'quickSort',\n",
       "   'lineno': 28},\n",
       "  'fcall_3': {'parent': None,\n",
       "   'args': ['arr', 'pi + 1', 'high'],\n",
       "   'name': 'quickSort',\n",
       "   'lineno': 29},\n",
       "  'fcall_4': {'parent': None,\n",
       "   'args': [0, 100],\n",
       "   'name': 'randint',\n",
       "   'lineno': 33},\n",
       "  'fcall_5': {'parent': None, 'args': [5000], 'name': 'range', 'lineno': 33},\n",
       "  'fcall_6': {'parent': None,\n",
       "   'args': [],\n",
       "   'name': 'init_arr_from_file',\n",
       "   'lineno': 36},\n",
       "  'fcall_7': {'parent': None, 'args': ['arr'], 'name': 'len', 'lineno': 37},\n",
       "  'fcall_8': {'parent': None,\n",
       "   'args': ['arr', 0, 'size - 1'],\n",
       "   'name': 'quickSort',\n",
       "   'lineno': 38}},\n",
       " 'User time (seconds)': 0.07,\n",
       " 'System time (seconds)': 0.01,\n",
       " 'Average shared text size (kbytes)': 0.0,\n",
       " 'Average unshared data size (kbytes)': 0.0,\n",
       " 'Average stack size (kbytes)': 0.0,\n",
       " 'Average total size (kbytes)': 0.0,\n",
       " 'Maximum resident set size (kbytes)': 7520.0,\n",
       " 'Average resident set size (kbytes)': 0.0,\n",
       " 'Major (requiring I/O) page faults': 0.0,\n",
       " 'Minor (reclaiming a frame) page faults': 2016.0,\n",
       " 'Voluntary context switches': 0.0,\n",
       " 'Involuntary context switches': 10.0,\n",
       " 'Swaps': 0.0,\n",
       " 'File system inputs': 0.0,\n",
       " 'File system outputs': 0.0,\n",
       " 'Socket messages sent': 0.0,\n",
       " 'Socket messages received': 0.0,\n",
       " 'Signals delivered': 0.0,\n",
       " 'Page size (bytes)': 4096.0,\n",
       " 'Exit status': 0.0}"
      ]
     },
     "execution_count": 3,
     "metadata": {},
     "output_type": "execute_result"
    }
   ],
   "source": [
    "prog_dict"
   ]
  },
  {
   "cell_type": "code",
   "execution_count": 4,
   "metadata": {},
   "outputs": [],
   "source": [
    "def display_fdef_info(fdefs):\n",
    "    for fdef_key in fdefs.keys():\n",
    "        fdef_dict = fdefs[fdef_key]\n",
    "        name = fdef_dict[\"name\"]\n",
    "        tot_time = fdef_dict[\"tot_time\"]\n",
    "        cum_time = fdef_dict[\"cum_time\"]\n",
    "        lprof_dict = fdef_dict[\"line_profile\"]\n",
    "        print(\"Function {0}: cum_time = {1}\".format(name, cum_time))\n",
    "        for l_key in lprof_dict.keys():\n",
    "            l_dict = lprof_dict[l_key]\n",
    "            hits = l_dict[\"hits\"]\n",
    "            time = l_dict[\"time\"]\n",
    "            percent_time = l_dict[\"%time\"]\n",
    "            contents = l_dict[\"contents\"]\n",
    "            print(\"{0}: contents = {1} | hits = {2} | time = {3} | %time = {4}\".format(\n",
    "                l_key, contents, hits, time, percent_time))\n",
    "        print()"
   ]
  },
  {
   "cell_type": "code",
   "execution_count": 5,
   "metadata": {},
   "outputs": [
    {
     "name": "stdout",
     "output_type": "stream",
     "text": [
      "Function partition: cum_time = 0.020\n",
      "line_8: contents = pivot = arr[(high+low)//2] | hits = 4999 | time = 6.00E-04 | %time = 3.0\n",
      "line_9: contents = i = low - 1 | hits = 4999 | time = 4.00E-04 | %time = 2.0\n",
      "line_10: contents = j = high + 1 | hits = 4999 | time = 3.80E-04 | %time = 1.9\n",
      "line_12: contents = while True: | hits = 4999 | time = 3.40E-04 | %time = 1.7\n",
      "line_13: contents = i += 1 | hits = 26157 | time = 2.02E-03 | %time = 10.1\n",
      "line_14: contents = while arr[i] < pivot: | hits = 39985 | time = 3.64E-03 | %time = 18.2\n",
      "line_15: contents = i += 1 | hits = 13828 | time = 1.10E-03 | %time = 5.5\n",
      "line_16: contents = j -= 1 | hits = 26157 | time = 2.08E-03 | %time = 10.4\n",
      "line_17: contents = while arr[j] > pivot: | hits = 39388 | time = 3.60E-03 | %time = 18.0\n",
      "line_18: contents = j -= 1 | hits = 13231 | time = 1.08E-03 | %time = 5.4\n",
      "line_19: contents = if i >= j: | hits = 26157 | time = 2.02E-03 | %time = 10.1\n",
      "line_20: contents = return j | hits = 4999 | time = 3.40E-04 | %time = 1.7\n",
      "line_22: contents = arr[i], arr[j] = arr[j], arr[i] | hits = 21158 | time = 2.44E-03 | %time = 12.2\n",
      "\n",
      "Function quickSort: cum_time = 0.026\n",
      "line_26: contents = if low < high: | hits = 9999 | time = 5.72E-04 | %time = 2.2\n",
      "line_27: contents = pi = partition(arr, low, high) | hits = 4999 | time = 2.38E-02 | %time = 91.5\n",
      "line_28: contents = quickSort(arr, low, pi) | hits = 4999 | time = 8.06E-04 | %time = 3.1\n",
      "line_29: contents = quickSort(arr, pi+1, high) | hits = 4999 | time = 8.32E-04 | %time = 3.2\n",
      "\n",
      "Function init_arr_from_file: cum_time = 0.017\n",
      "line_33: contents = return [random.randint(0,100) for i in range(5000)] | hits = 1 | time = 1.70E-02 | %time = 100.0\n",
      "\n"
     ]
    }
   ],
   "source": [
    "display_fdef_info(prog_dict.get(\"fdefs\"))"
   ]
  },
  {
   "cell_type": "code",
   "execution_count": 6,
   "metadata": {},
   "outputs": [
    {
     "data": {
      "text/plain": [
       "<Figure size 960x640 with 0 Axes>"
      ]
     },
     "execution_count": 6,
     "metadata": {},
     "output_type": "execute_result"
    },
    {
     "data": {
      "text/plain": [
       "<Figure size 960x640 with 0 Axes>"
      ]
     },
     "metadata": {},
     "output_type": "display_data"
    }
   ],
   "source": [
    "import matplotlib.pyplot as plt\n",
    "from matplotlib.pyplot import figure\n",
    "figure(num=None, figsize=(12, 8), dpi=80, facecolor='w', edgecolor='k')"
   ]
  },
  {
   "cell_type": "code",
   "execution_count": 7,
   "metadata": {},
   "outputs": [],
   "source": [
    "def scatter_fdef_info(fdefs):\n",
    "    count = 0\n",
    "    counts = []\n",
    "    hits_list = []\n",
    "    time_list = []\n",
    "    fnames = []\n",
    "    for fdef_key in fdefs.keys():\n",
    "        fdef_dict = fdefs[fdef_key]\n",
    "        name = fdef_dict[\"name\"]\n",
    "        tot_time = fdef_dict[\"tot_time\"]\n",
    "        cum_time = fdef_dict[\"cum_time\"]\n",
    "        lprof_dict = fdef_dict[\"line_profile\"]\n",
    "\n",
    "        for l_key in lprof_dict.keys():\n",
    "            l_dict = lprof_dict[l_key]\n",
    "            hits = l_dict[\"hits\"]\n",
    "            time = l_dict[\"time\"]\n",
    "            percent_time = l_dict[\"%time\"]\n",
    "            contents = l_dict[\"contents\"]\n",
    "            time_list.append(float(time) * 100000)\n",
    "            count += 1\n",
    "            counts.append(count)\n",
    "            hits_list.append(int(hits))\n",
    "            fnames.append(name)\n",
    "        print()\n",
    "        \n",
    "    plt.ylim([-10000, max(hits_list)+10000])\n",
    "    c = [\"r\" if fname == \"quickSort\" else \"b\" if fname == \"partition\" else 'k' for fname in fnames]\n",
    "\n",
    "    plt.axis('off')\n",
    "    plt.scatter(counts, hits_list, s=time_list, c=c)\n",
    "    plt.plot(counts, hits_list)"
   ]
  },
  {
   "cell_type": "code",
   "execution_count": 8,
   "metadata": {},
   "outputs": [
    {
     "name": "stdout",
     "output_type": "stream",
     "text": [
      "\n",
      "\n",
      "\n"
     ]
    },
    {
     "data": {
      "image/png": "[encoded data removed]",
      "text/plain": [
       "<Figure size 432x288 with 1 Axes>"
      ]
     },
     "metadata": {
      "needs_background": "light"
     },
     "output_type": "display_data"
    }
   ],
   "source": [
    "scatter_fdef_info(prog_dict.get(\"fdefs\"))"
   ]
  },
  {
   "cell_type": "code",
   "execution_count": 33,
   "metadata": {},
   "outputs": [],
   "source": [
    "import seaborn as sns\n",
    "def get_fdef_dfs(df, number):\n",
    "    fdf = pd.DataFrame(df[\"fdefs\"][\"fdef_{0}\".format(number)][\"line_profile\"]).T\n",
    "    for col in fdf.columns:\n",
    "        if col != 'contents':\n",
    "            fdf[col] = fdf[col].astype('float64')\n",
    "    return fdf\n",
    "    "
   ]
  },
  {
   "cell_type": "code",
   "execution_count": 44,
   "metadata": {},
   "outputs": [],
   "source": [
    "import json\n",
    "df = pd.read_json('analysis.json')\n",
    "fdfs = []\n",
    "\n",
    "for i in range(len(df[\"fdefs\"].keys())):\n",
    "    try:\n",
    "        fdfs.append(get_fdef_dfs(df, i+1))\n",
    "    except:\n",
    "        break\n",
    "        \n",
    "sns.set(rc={'figure.figsize':(12,8)})\n",
    "\n",
    "fdef_df = pd.concat([fdf for fdf in fdfs], axis=0)"
   ]
  },
  {
   "cell_type": "code",
   "execution_count": 65,
   "metadata": {},
   "outputs": [
    {
     "data": {
      "image/png": "[encoded data removed]",
      "text/plain": [
       "<Figure size 864x576 with 1 Axes>"
      ]
     },
     "metadata": {},
     "output_type": "display_data"
    }
   ],
   "source": [
    "sns_plot = sns.barplot(data=fdef_df.reset_index(), x='time', y='contents')\n",
    "fig = sns_plot.get_figure()\n",
    "fig.savefig(\"function_barplot.png\")"
   ]
  },
  {
   "cell_type": "code",
   "execution_count": 38,
   "metadata": {},
   "outputs": [
    {
     "data": {
      "text/plain": [
       "<AxesSubplot:xlabel='time', ylabel='contents'>"
      ]
     },
     "execution_count": 38,
     "metadata": {},
     "output_type": "execute_result"
    },
    {
     "data": {
      "image/png": "[encoded data removed]",
      "text/plain": [
       "<Figure size 864x576 with 1 Axes>"
      ]
     },
     "metadata": {},
     "output_type": "display_data"
    }
   ],
   "source": [
    "sns.barplot(data=fdfs[1].reset_index(), x='time', y='contents')  "
   ]
  },
  {
   "cell_type": "code",
   "execution_count": 39,
   "metadata": {},
   "outputs": [
    {
     "data": {
      "text/plain": [
       "<AxesSubplot:xlabel='time', ylabel='contents'>"
      ]
     },
     "execution_count": 39,
     "metadata": {},
     "output_type": "execute_result"
    },
    {
     "data": {
      "image/png": "[encoded data removed]",
      "text/plain": [
       "<Figure size 864x576 with 1 Axes>"
      ]
     },
     "metadata": {},
     "output_type": "display_data"
    }
   ],
   "source": [
    "sns.barplot(data=fdfs[2].reset_index(), x='time', y='contents')  "
   ]
  },
  {
   "cell_type": "code",
   "execution_count": null,
   "metadata": {},
   "outputs": [],
   "source": []
  }
 ],
 "metadata": {
  "kernelspec": {
   "display_name": "Python 3",
   "language": "python",
   "name": "python3"
  },
  "language_info": {
   "codemirror_mode": {
    "name": "ipython",
    "version": 3
   },
   "file_extension": ".py",
   "mimetype": "text/x-python",
   "name": "python",
   "nbconvert_exporter": "python",
   "pygments_lexer": "ipython3",
   "version": "3.7.4"
  }
 },
 "nbformat": 4,
 "nbformat_minor": 4
}
